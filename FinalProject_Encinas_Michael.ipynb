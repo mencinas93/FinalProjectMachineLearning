{
 "cells": [
  {
   "cell_type": "code",
   "execution_count": 1,
   "id": "ed36c72c",
   "metadata": {},
   "outputs": [],
   "source": [
    "import pandas as pd"
   ]
  },
  {
   "cell_type": "code",
   "execution_count": 2,
   "id": "9d09a848",
   "metadata": {},
   "outputs": [],
   "source": [
    "data = pd.read_csv('Data.csv')"
   ]
  },
  {
   "cell_type": "code",
   "execution_count": 3,
   "id": "f89b7512",
   "metadata": {},
   "outputs": [
    {
     "name": "stdout",
     "output_type": "stream",
     "text": [
      "                                          image_name class  feature_0  \\\n",
      "0  video-jNQtRj6NGycZDEXpe-frame-002745-hD77p8GPo...  bike   0.592699   \n",
      "1  video-Gfv3kbdf5KAYRtPcz-frame-003465-ZK64MTpDB...  bike   0.129109   \n",
      "2  video-rYXSHjnEfuLmjE6Z4-frame-000282-9DsLzj8zD...  bike   0.197805   \n",
      "3  video-Gfv3kbdf5KAYRtPcz-frame-003031-pN4SMGv4P...  bike   0.712441   \n",
      "4  video-BjSfmxLQqCGjg8tya-frame-000645-gyu9wMM3z...  bike   0.585288   \n",
      "\n",
      "   feature_1  feature_2  feature_3  feature_4  feature_5  feature_6  \\\n",
      "0  -0.451727  -1.002004  -0.121421  -0.004720  -1.136993   1.756335   \n",
      "1  -0.332358  -0.227406  -0.255327   0.219230  -0.666518   0.987676   \n",
      "2  -0.429209  -0.088233  -0.117236   0.376269  -0.305559   1.064518   \n",
      "3  -0.253060  -0.506600  -0.175965  -0.051375  -0.870011   1.164238   \n",
      "4  -0.675755   0.040474   0.666216   0.534574  -0.122698   1.297833   \n",
      "\n",
      "   feature_7  ...  feature_246  feature_247  feature_248  feature_249  \\\n",
      "0   1.126653  ...     1.391706    -1.700207    -0.868406    -1.572485   \n",
      "1   0.313743  ...     0.600828    -0.808908    -0.339347    -0.636438   \n",
      "2   0.534781  ...     0.413386    -0.569733    -0.264763    -0.610128   \n",
      "3   0.478648  ...     0.571643    -1.170575    -0.287788    -1.191835   \n",
      "4   0.692727  ...     0.941553    -1.158638     0.365984    -1.107443   \n",
      "\n",
      "   feature_250  feature_251  feature_252  feature_253  feature_254  \\\n",
      "0    -1.355250    -0.713041     0.404593     1.310479    -0.368052   \n",
      "1    -0.932815    -0.494220     0.228314     0.700296    -0.190041   \n",
      "2    -0.171202    -0.440568     0.104173     0.104219    -0.196196   \n",
      "3    -0.442736    -0.201745     0.042570     0.568748    -0.357610   \n",
      "4    -0.065075    -0.987974    -0.313089    -0.395065     0.641346   \n",
      "\n",
      "   feature_255  \n",
      "0    -1.743280  \n",
      "1    -0.622926  \n",
      "2    -0.283236  \n",
      "3    -0.393060  \n",
      "4    -0.018454  \n",
      "\n",
      "[5 rows x 258 columns]\n"
     ]
    }
   ],
   "source": [
    "print(data.head())"
   ]
  },
  {
   "cell_type": "code",
   "execution_count": null,
   "id": "b6be0d5d",
   "metadata": {},
   "outputs": [],
   "source": []
  }
 ],
 "metadata": {
  "kernelspec": {
   "display_name": "Python 3 (ipykernel)",
   "language": "python",
   "name": "python3"
  },
  "language_info": {
   "codemirror_mode": {
    "name": "ipython",
    "version": 3
   },
   "file_extension": ".py",
   "mimetype": "text/x-python",
   "name": "python",
   "nbconvert_exporter": "python",
   "pygments_lexer": "ipython3",
   "version": "3.11.7"
  }
 },
 "nbformat": 4,
 "nbformat_minor": 5
}
